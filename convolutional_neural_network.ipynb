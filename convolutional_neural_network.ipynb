{
 "cells": [
  {
   "cell_type": "markdown",
   "metadata": {
    "id": "3DR-eO17geWu"
   },
   "source": [
    "# Convolutional Neural Network"
   ]
  },
  {
   "cell_type": "markdown",
   "metadata": {
    "id": "EMefrVPCg-60"
   },
   "source": [
    "### Importing the libraries"
   ]
  },
  {
   "cell_type": "code",
   "execution_count": 3,
   "metadata": {
    "id": "sCV30xyVhFbE"
   },
   "outputs": [
    {
     "name": "stdout",
     "output_type": "stream",
     "text": [
      "success\n"
     ]
    }
   ],
   "source": [
    "import tensorflow as tf\n",
    "from keras.preprocessing.image import ImageDataGenerator\n",
    "print('success')"
   ]
  },
  {
   "cell_type": "code",
   "execution_count": 4,
   "metadata": {
    "id": "FIleuCAjoFD8"
   },
   "outputs": [
    {
     "data": {
      "text/plain": [
       "'2.10.0'"
      ]
     },
     "execution_count": 4,
     "metadata": {},
     "output_type": "execute_result"
    }
   ],
   "source": [
    "tf.__version__"
   ]
  },
  {
   "cell_type": "markdown",
   "metadata": {
    "id": "oxQxCBWyoGPE"
   },
   "source": [
    "## Part 1 - Data Preprocessing"
   ]
  },
  {
   "cell_type": "markdown",
   "metadata": {
    "id": "MvE-heJNo3GG"
   },
   "source": [
    "### Preprocessing the Training set"
   ]
  },
  {
   "cell_type": "code",
   "execution_count": 5,
   "metadata": {
    "id": "0koUcJMJpEBD"
   },
   "outputs": [
    {
     "name": "stdout",
     "output_type": "stream",
     "text": [
      "Found 8000 images belonging to 2 classes.\n"
     ]
    }
   ],
   "source": [
    "train_datagen = ImageDataGenerator(rescale = 1./255,\n",
    "                                   shear_range = 0.2,\n",
    "                                   zoom_range = 0.2,\n",
    "                                   horizontal_flip = True)\n",
    "training_set = train_datagen.flow_from_directory('DATASETS/dataset/training_set',\n",
    "                                                 target_size = (64, 64),\n",
    "                                                 batch_size = 32,\n",
    "                                                 class_mode = 'binary')"
   ]
  },
  {
   "cell_type": "markdown",
   "metadata": {
    "id": "mrCMmGw9pHys"
   },
   "source": [
    "### Preprocessing the Test set"
   ]
  },
  {
   "cell_type": "code",
   "execution_count": 6,
   "metadata": {
    "id": "SH4WzfOhpKc3"
   },
   "outputs": [
    {
     "name": "stdout",
     "output_type": "stream",
     "text": [
      "Found 2000 images belonging to 2 classes.\n"
     ]
    }
   ],
   "source": [
    "test_datagen = ImageDataGenerator(rescale = 1./255)\n",
    "test_set = test_datagen.flow_from_directory('DATASETS/dataset/test_set',\n",
    "                                            target_size = (64, 64),\n",
    "                                            batch_size = 32,\n",
    "                                            class_mode = 'binary')"
   ]
  },
  {
   "cell_type": "markdown",
   "metadata": {
    "id": "af8O4l90gk7B"
   },
   "source": [
    "## Part 2 - Building the CNN"
   ]
  },
  {
   "cell_type": "markdown",
   "metadata": {
    "id": "ces1gXY2lmoX"
   },
   "source": [
    "### Initialising the CNN"
   ]
  },
  {
   "cell_type": "code",
   "execution_count": 7,
   "metadata": {
    "id": "SAUt4UMPlhLS"
   },
   "outputs": [],
   "source": [
    "cnn = tf.keras.models.Sequential()"
   ]
  },
  {
   "cell_type": "markdown",
   "metadata": {
    "id": "u5YJj_XMl5LF"
   },
   "source": [
    "### Step 1 - Convolution"
   ]
  },
  {
   "cell_type": "code",
   "execution_count": 8,
   "metadata": {
    "id": "XPzPrMckl-hV"
   },
   "outputs": [],
   "source": [
    "cnn.add(tf.keras.layers.Conv2D(filters=32, kernel_size=3, activation='relu', input_shape=[64, 64, 3]))"
   ]
  },
  {
   "cell_type": "markdown",
   "metadata": {
    "id": "tf87FpvxmNOJ"
   },
   "source": [
    "### Step 2 - Pooling"
   ]
  },
  {
   "cell_type": "code",
   "execution_count": 9,
   "metadata": {
    "id": "ncpqPl69mOac"
   },
   "outputs": [],
   "source": [
    "cnn.add(tf.keras.layers.MaxPool2D(pool_size=2, strides=2))"
   ]
  },
  {
   "cell_type": "markdown",
   "metadata": {
    "id": "xaTOgD8rm4mU"
   },
   "source": [
    "### Adding a second convolutional layer"
   ]
  },
  {
   "cell_type": "code",
   "execution_count": 10,
   "metadata": {
    "id": "i_-FZjn_m8gk"
   },
   "outputs": [],
   "source": [
    "cnn.add(tf.keras.layers.Conv2D(filters=32, kernel_size=3, activation='relu'))\n",
    "cnn.add(tf.keras.layers.MaxPool2D(pool_size=2, strides=2))"
   ]
  },
  {
   "cell_type": "markdown",
   "metadata": {
    "id": "tmiEuvTunKfk"
   },
   "source": [
    "### Step 3 - Flattening"
   ]
  },
  {
   "cell_type": "code",
   "execution_count": 11,
   "metadata": {
    "id": "6AZeOGCvnNZn"
   },
   "outputs": [],
   "source": [
    "cnn.add(tf.keras.layers.Flatten())"
   ]
  },
  {
   "cell_type": "markdown",
   "metadata": {
    "id": "dAoSECOm203v"
   },
   "source": [
    "### Step 4 - Full Connection"
   ]
  },
  {
   "cell_type": "code",
   "execution_count": 12,
   "metadata": {
    "id": "8GtmUlLd26Nq"
   },
   "outputs": [],
   "source": [
    "cnn.add(tf.keras.layers.Dense(units=128, activation='relu'))"
   ]
  },
  {
   "cell_type": "markdown",
   "metadata": {
    "id": "yTldFvbX28Na"
   },
   "source": [
    "### Step 5 - Output Layer"
   ]
  },
  {
   "cell_type": "code",
   "execution_count": 13,
   "metadata": {
    "id": "1p_Zj1Mc3Ko_"
   },
   "outputs": [],
   "source": [
    "cnn.add(tf.keras.layers.Dense(units=1, activation='sigmoid'))"
   ]
  },
  {
   "cell_type": "markdown",
   "metadata": {
    "id": "D6XkI90snSDl"
   },
   "source": [
    "## Part 3 - Training the CNN"
   ]
  },
  {
   "cell_type": "markdown",
   "metadata": {
    "id": "vfrFQACEnc6i"
   },
   "source": [
    "### Compiling the CNN"
   ]
  },
  {
   "cell_type": "code",
   "execution_count": 14,
   "metadata": {
    "id": "NALksrNQpUlJ"
   },
   "outputs": [],
   "source": [
    "cnn.compile(optimizer = 'adam', loss = 'binary_crossentropy', metrics = ['accuracy'])"
   ]
  },
  {
   "cell_type": "markdown",
   "metadata": {
    "id": "ehS-v3MIpX2h"
   },
   "source": [
    "### Training the CNN on the Training set and evaluating it on the Test set"
   ]
  },
  {
   "cell_type": "code",
   "execution_count": 15,
   "metadata": {
    "id": "XUj1W4PJptta",
    "scrolled": true
   },
   "outputs": [
    {
     "name": "stdout",
     "output_type": "stream",
     "text": [
      "Epoch 1/50\n",
      "250/250 [==============================] - 104s 411ms/step - loss: 0.6730 - accuracy: 0.5854 - val_loss: 0.6408 - val_accuracy: 0.6505\n",
      "Epoch 2/50\n",
      "250/250 [==============================] - 47s 188ms/step - loss: 0.6244 - accuracy: 0.6560 - val_loss: 0.5778 - val_accuracy: 0.7100\n",
      "Epoch 3/50\n",
      "250/250 [==============================] - 44s 178ms/step - loss: 0.5687 - accuracy: 0.7029 - val_loss: 0.5740 - val_accuracy: 0.6935\n",
      "Epoch 4/50\n",
      "250/250 [==============================] - 42s 166ms/step - loss: 0.5357 - accuracy: 0.7272 - val_loss: 0.6038 - val_accuracy: 0.6990\n",
      "Epoch 5/50\n",
      "250/250 [==============================] - 42s 166ms/step - loss: 0.5098 - accuracy: 0.7499 - val_loss: 0.5424 - val_accuracy: 0.7135\n",
      "Epoch 6/50\n",
      "250/250 [==============================] - 42s 166ms/step - loss: 0.4930 - accuracy: 0.7604 - val_loss: 0.5148 - val_accuracy: 0.7575\n",
      "Epoch 7/50\n",
      "250/250 [==============================] - 41s 166ms/step - loss: 0.4736 - accuracy: 0.7713 - val_loss: 0.4871 - val_accuracy: 0.7680\n",
      "Epoch 8/50\n",
      "250/250 [==============================] - 41s 166ms/step - loss: 0.4593 - accuracy: 0.7822 - val_loss: 0.4748 - val_accuracy: 0.7765\n",
      "Epoch 9/50\n",
      "250/250 [==============================] - 42s 166ms/step - loss: 0.4411 - accuracy: 0.7851 - val_loss: 0.4709 - val_accuracy: 0.7925\n",
      "Epoch 10/50\n",
      "250/250 [==============================] - 41s 166ms/step - loss: 0.4250 - accuracy: 0.8031 - val_loss: 0.4785 - val_accuracy: 0.7875\n",
      "Epoch 11/50\n",
      "250/250 [==============================] - 41s 166ms/step - loss: 0.4113 - accuracy: 0.8064 - val_loss: 0.4431 - val_accuracy: 0.8085\n",
      "Epoch 12/50\n",
      "250/250 [==============================] - 41s 165ms/step - loss: 0.3915 - accuracy: 0.8223 - val_loss: 0.4493 - val_accuracy: 0.8000\n",
      "Epoch 13/50\n",
      "250/250 [==============================] - 41s 165ms/step - loss: 0.3734 - accuracy: 0.8319 - val_loss: 0.4381 - val_accuracy: 0.8050\n",
      "Epoch 14/50\n",
      "250/250 [==============================] - 41s 166ms/step - loss: 0.3635 - accuracy: 0.8390 - val_loss: 0.4856 - val_accuracy: 0.7870\n",
      "Epoch 15/50\n",
      "250/250 [==============================] - 42s 166ms/step - loss: 0.3448 - accuracy: 0.8464 - val_loss: 0.4556 - val_accuracy: 0.8035\n",
      "Epoch 16/50\n",
      "250/250 [==============================] - 41s 166ms/step - loss: 0.3290 - accuracy: 0.8586 - val_loss: 0.4502 - val_accuracy: 0.8015\n",
      "Epoch 17/50\n",
      "250/250 [==============================] - 41s 165ms/step - loss: 0.3130 - accuracy: 0.8670 - val_loss: 0.4832 - val_accuracy: 0.8000\n",
      "Epoch 18/50\n",
      "250/250 [==============================] - 41s 164ms/step - loss: 0.3045 - accuracy: 0.8681 - val_loss: 0.4686 - val_accuracy: 0.8095\n",
      "Epoch 19/50\n",
      "250/250 [==============================] - 41s 163ms/step - loss: 0.2827 - accuracy: 0.8796 - val_loss: 0.5274 - val_accuracy: 0.7860\n",
      "Epoch 20/50\n",
      "250/250 [==============================] - 41s 164ms/step - loss: 0.2723 - accuracy: 0.8876 - val_loss: 0.4830 - val_accuracy: 0.7945\n",
      "Epoch 21/50\n",
      "250/250 [==============================] - 41s 162ms/step - loss: 0.2547 - accuracy: 0.8991 - val_loss: 0.5003 - val_accuracy: 0.8135\n",
      "Epoch 22/50\n",
      "250/250 [==============================] - 41s 162ms/step - loss: 0.2401 - accuracy: 0.8967 - val_loss: 0.5512 - val_accuracy: 0.7960\n",
      "Epoch 23/50\n",
      "250/250 [==============================] - 41s 164ms/step - loss: 0.2264 - accuracy: 0.9079 - val_loss: 0.5354 - val_accuracy: 0.8145\n",
      "Epoch 24/50\n",
      "250/250 [==============================] - 41s 164ms/step - loss: 0.2173 - accuracy: 0.9085 - val_loss: 0.5689 - val_accuracy: 0.7975\n",
      "Epoch 25/50\n",
      "250/250 [==============================] - 41s 163ms/step - loss: 0.2088 - accuracy: 0.9155 - val_loss: 0.5206 - val_accuracy: 0.8090\n",
      "Epoch 26/50\n",
      "250/250 [==============================] - 41s 164ms/step - loss: 0.1796 - accuracy: 0.9265 - val_loss: 0.5834 - val_accuracy: 0.8095\n",
      "Epoch 27/50\n",
      "250/250 [==============================] - 41s 163ms/step - loss: 0.1749 - accuracy: 0.9300 - val_loss: 0.5986 - val_accuracy: 0.7905\n",
      "Epoch 28/50\n",
      "250/250 [==============================] - 41s 162ms/step - loss: 0.1837 - accuracy: 0.9281 - val_loss: 0.6038 - val_accuracy: 0.7960\n",
      "Epoch 29/50\n",
      "250/250 [==============================] - 41s 163ms/step - loss: 0.1637 - accuracy: 0.9411 - val_loss: 0.6228 - val_accuracy: 0.7990\n",
      "Epoch 30/50\n",
      "250/250 [==============================] - 41s 162ms/step - loss: 0.1509 - accuracy: 0.9391 - val_loss: 0.6048 - val_accuracy: 0.7960\n",
      "Epoch 31/50\n",
      "250/250 [==============================] - 41s 163ms/step - loss: 0.1475 - accuracy: 0.9455 - val_loss: 0.6319 - val_accuracy: 0.8040\n",
      "Epoch 32/50\n",
      "250/250 [==============================] - 41s 163ms/step - loss: 0.1439 - accuracy: 0.9454 - val_loss: 0.6018 - val_accuracy: 0.8015\n",
      "Epoch 33/50\n",
      "250/250 [==============================] - 41s 163ms/step - loss: 0.1266 - accuracy: 0.9514 - val_loss: 0.6379 - val_accuracy: 0.8030\n",
      "Epoch 34/50\n",
      "250/250 [==============================] - 41s 163ms/step - loss: 0.1317 - accuracy: 0.9459 - val_loss: 0.6813 - val_accuracy: 0.8045\n",
      "Epoch 35/50\n",
      "250/250 [==============================] - 41s 163ms/step - loss: 0.1179 - accuracy: 0.9571 - val_loss: 0.7353 - val_accuracy: 0.7970\n",
      "Epoch 36/50\n",
      "250/250 [==============================] - 41s 164ms/step - loss: 0.1127 - accuracy: 0.9585 - val_loss: 0.7895 - val_accuracy: 0.7975\n",
      "Epoch 37/50\n",
      "250/250 [==============================] - 41s 164ms/step - loss: 0.1063 - accuracy: 0.9594 - val_loss: 0.7501 - val_accuracy: 0.8145\n",
      "Epoch 38/50\n",
      "250/250 [==============================] - 41s 163ms/step - loss: 0.0948 - accuracy: 0.9650 - val_loss: 0.7533 - val_accuracy: 0.8055\n",
      "Epoch 39/50\n",
      "250/250 [==============================] - 41s 163ms/step - loss: 0.1047 - accuracy: 0.9625 - val_loss: 0.7599 - val_accuracy: 0.7900\n",
      "Epoch 40/50\n",
      "250/250 [==============================] - 41s 163ms/step - loss: 0.0943 - accuracy: 0.9654 - val_loss: 0.7305 - val_accuracy: 0.8195\n",
      "Epoch 41/50\n",
      "250/250 [==============================] - 41s 162ms/step - loss: 0.0986 - accuracy: 0.9640 - val_loss: 0.8070 - val_accuracy: 0.8030\n",
      "Epoch 42/50\n",
      "250/250 [==============================] - 41s 163ms/step - loss: 0.0883 - accuracy: 0.9681 - val_loss: 0.9038 - val_accuracy: 0.7760\n",
      "Epoch 43/50\n",
      "250/250 [==============================] - 41s 162ms/step - loss: 0.0917 - accuracy: 0.9643 - val_loss: 0.7731 - val_accuracy: 0.8010\n",
      "Epoch 44/50\n",
      "250/250 [==============================] - 41s 163ms/step - loss: 0.0853 - accuracy: 0.9694 - val_loss: 0.7796 - val_accuracy: 0.8095\n",
      "Epoch 45/50\n",
      "250/250 [==============================] - 41s 163ms/step - loss: 0.0694 - accuracy: 0.9745 - val_loss: 0.8188 - val_accuracy: 0.8085\n",
      "Epoch 46/50\n",
      "250/250 [==============================] - 41s 164ms/step - loss: 0.0796 - accuracy: 0.9703 - val_loss: 0.8372 - val_accuracy: 0.7930\n",
      "Epoch 47/50\n",
      "250/250 [==============================] - 41s 164ms/step - loss: 0.0933 - accuracy: 0.9651 - val_loss: 0.8101 - val_accuracy: 0.8045\n",
      "Epoch 48/50\n",
      "250/250 [==============================] - 157s 629ms/step - loss: 0.0706 - accuracy: 0.9734 - val_loss: 0.8101 - val_accuracy: 0.8140\n",
      "Epoch 49/50\n",
      "250/250 [==============================] - 45s 178ms/step - loss: 0.0797 - accuracy: 0.9689 - val_loss: 0.8239 - val_accuracy: 0.8060\n",
      "Epoch 50/50\n",
      "250/250 [==============================] - 42s 167ms/step - loss: 0.0630 - accuracy: 0.9764 - val_loss: 0.9417 - val_accuracy: 0.7955\n"
     ]
    },
    {
     "data": {
      "text/plain": [
       "<keras.callbacks.History at 0x1c17e80f280>"
      ]
     },
     "execution_count": 15,
     "metadata": {},
     "output_type": "execute_result"
    }
   ],
   "source": [
    "cnn.fit(x = training_set, validation_data = test_set, epochs = 50)"
   ]
  },
  {
   "cell_type": "markdown",
   "metadata": {
    "id": "U3PZasO0006Z"
   },
   "source": [
    "## Part 4 - Making a single prediction"
   ]
  },
  {
   "cell_type": "code",
   "execution_count": 55,
   "metadata": {
    "id": "gsSiWEJY1BPB"
   },
   "outputs": [
    {
     "name": "stdout",
     "output_type": "stream",
     "text": [
      "1/1 [==============================] - 0s 23ms/step\n"
     ]
    }
   ],
   "source": [
    "import numpy as np\n",
    "from keras.utils import image_utils\n",
    "test_image = image_utils.load_img('DATASETS/dataset/single_prediction/cat_or_dog_6.jpg', target_size = (64, 64))\n",
    "test_image = image_utils.img_to_array(test_image)\n",
    "test_image = np.expand_dims(test_image, axis = 0)\n",
    "result = cnn.predict(test_image)\n",
    "training_set.class_indices\n",
    "if result[0][0] == 1:\n",
    "    prediction = 'dog'\n",
    "else:\n",
    "    prediction = 'cat'"
   ]
  },
  {
   "cell_type": "code",
   "execution_count": 56,
   "metadata": {
    "id": "ED9KB3I54c1i"
   },
   "outputs": [
    {
     "name": "stdout",
     "output_type": "stream",
     "text": [
      "cat\n"
     ]
    }
   ],
   "source": [
    "print(prediction)"
   ]
  },
  {
   "cell_type": "code",
   "execution_count": 54,
   "metadata": {},
   "outputs": [
    {
     "data": {
      "text/plain": [
       "array([[0.]], dtype=float32)"
      ]
     },
     "execution_count": 54,
     "metadata": {},
     "output_type": "execute_result"
    }
   ],
   "source": [
    "result"
   ]
  },
  {
   "cell_type": "code",
   "execution_count": null,
   "metadata": {},
   "outputs": [],
   "source": []
  }
 ],
 "metadata": {
  "colab": {
   "provenance": [],
   "toc_visible": true
  },
  "kernelspec": {
   "display_name": "Python 3 (ipykernel)",
   "language": "python",
   "name": "python3"
  },
  "language_info": {
   "codemirror_mode": {
    "name": "ipython",
    "version": 3
   },
   "file_extension": ".py",
   "mimetype": "text/x-python",
   "name": "python",
   "nbconvert_exporter": "python",
   "pygments_lexer": "ipython3",
   "version": "3.9.13"
  }
 },
 "nbformat": 4,
 "nbformat_minor": 1
}
